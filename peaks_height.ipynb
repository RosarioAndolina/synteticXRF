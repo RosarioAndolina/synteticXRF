{
 "cells": [
  {
   "cell_type": "code",
   "execution_count": 1,
   "id": "ae5e340e",
   "metadata": {},
   "outputs": [],
   "source": [
    "from scipy.optimize import curve_fit\n",
    "import numpy as np\n",
    "import matplotlib.pyplot as plt\n",
    "%matplotlib tk"
   ]
  },
  {
   "cell_type": "code",
   "execution_count": 5,
   "id": "4555ee19",
   "metadata": {},
   "outputs": [],
   "source": [
    "import os\n",
    "import sys\n",
    "sys.path.append(\"/home/rosario/xmimsim/xsimspe\")\n",
    "from glob import glob\n",
    "import spectra_utils as su\n",
    "from collections import namedtuple\n",
    "import pandas as pd\n",
    "\n",
    "xrdata = pd.read_csv('/home/rosario/xmimsim/xsimspe/Xraydata.csv')\n",
    "datadir = \"/home/rosario/xmimsim/tests/reflay_th/outdata\"\n",
    "\n",
    "def get_ewf(info):\n",
    "    index = 0\n",
    "    ewf = []\n",
    "    elements = info.elements.split('-')\n",
    "    while index < len(elements):\n",
    "        ewf.append((elements[index], elements[index + 1]))\n",
    "        index += 2\n",
    "    return ewf\n",
    "\n",
    "def get_max_counts(spectra, energy, emin, emax, elements):\n",
    "    condition = (energy > emin) & (energy < emax)\n",
    "    if spectra[condition].size == 0:\n",
    "        print(elements, emin, emax)\n",
    "        return 0\n",
    "    return np.max(spectra[condition])"
   ]
  },
  {
   "cell_type": "code",
   "execution_count": 7,
   "id": "227bd6ec",
   "metadata": {},
   "outputs": [
    {
     "data": {
      "text/plain": [
       "{'Mn-Fe': array([('Mn', 16.1569  , 25., 'Fe', 48.9305 , 75., 3.4e-04, 0.01 ),\n",
       "        ('Mn', 12.2493  , 25., 'Fe', 37.1401 , 75., 2.3e-04, 0.01 ),\n",
       "        ('Mn',  7.2485  , 25., 'Fe', 21.8738 , 75., 1.2e-04, 0.001),\n",
       "        ('Mn',  7.28699 , 25., 'Fe', 22.0922 , 75., 1.2e-04, 0.067),\n",
       "        ('Mn', 21.5386  , 25., 'Fe', 65.4528 , 75., 5.6e-04, 0.01 ),\n",
       "        ('Mn',  7.23104 , 25., 'Fe', 21.8872 , 75., 1.2e-04, 0.01 ),\n",
       "        ('Mn', 26.8328  , 25., 'Fe', 82.2915 , 75., 1.0e-03, 0.01 ),\n",
       "        ('Mn',  7.25866 , 25., 'Fe', 22.039  , 75., 1.2e-04, 0.056),\n",
       "        ('Mn',  7.27159 , 25., 'Fe', 21.9744 , 75., 1.2e-04, 0.012),\n",
       "        ('Mn', 23.3487  , 25., 'Fe', 71.1166 , 75., 6.7e-04, 0.01 ),\n",
       "        ('Mn', 24.7894  , 25., 'Fe', 75.7329 , 75., 7.8e-04, 0.01 ),\n",
       "        ('Mn', 19.1678  , 25., 'Fe', 58.2797 , 75., 4.5e-04, 0.01 ),\n",
       "        ('Mn',  7.32548 , 25., 'Fe', 22.0715 , 75., 1.2e-04, 0.034),\n",
       "        ('Mn', 25.9485  , 25., 'Fe', 79.4221 , 75., 8.9e-04, 0.01 ),\n",
       "        ('Mn',  7.27395 , 25., 'Fe', 22.0288 , 75., 1.2e-04, 0.023),\n",
       "        ('Mn',  7.3118  , 25., 'Fe', 22.1045 , 75., 1.2e-04, 0.1  ),\n",
       "        ('Mn',  7.23401 , 25., 'Fe', 21.9433 , 75., 1.2e-04, 0.078),\n",
       "        ('Mn',  7.30034 , 25., 'Fe', 22.0387 , 75., 1.2e-04, 0.089),\n",
       "        ('Mn',  0.760771, 25., 'Fe',  2.16883, 75., 1.0e-05, 0.01 ),\n",
       "        ('Mn',  7.29445 , 25., 'Fe', 22.0681 , 75., 1.2e-04, 0.045)],\n",
       "       dtype=[('el0', '<U2'), ('counts0', '<f8'), ('wf0', '<f8'), ('el1', '<U2'), ('counts1', '<f8'), ('wf1', '<f8'), ('rlth', '<f8'), ('hcth', '<f8')])}"
      ]
     },
     "execution_count": 7,
     "metadata": {},
     "output_type": "execute_result"
    }
   ],
   "source": [
    "elem_dirs = [os.path.join(datadir, d) for d in os.listdir(datadir)]\n",
    "energy = su.load_xmso(os.path.join(elem_dirs[0], os.listdir(elem_dirs[0])[0]))[1]\n",
    "data = dict()\n",
    "for _dir in elem_dirs:\n",
    "    nelem = len(os.path.basename(_dir).split('-'))\n",
    "    dtype = list()\n",
    "    for i in range(nelem):\n",
    "        dtype += [(f\"el{i}\", \"U2\"), (f\"counts{i}\", float), (f\"wf{i}\", float)]\n",
    "    dtype += [(\"rlth\", float), (\"hcth\", float)]\n",
    "    data_tuple = list()\n",
    "    xmso_fnames = [os.path.join(_dir, f) for f in os.listdir(_dir)]\n",
    "    for f in xmso_fnames:\n",
    "        spectra = su.load_xmso(f)[0]\n",
    "        info = su.parse_xmso_fname(f)\n",
    "        elements = info.elements.split('-')\n",
    "        i = 0\n",
    "        elem_data = list()\n",
    "        while i < len(elements):\n",
    "            emean = sorted(xrdata.loc[(xrdata[\"Symbol\"] == elements[i], \"Ka1\")].values)[0]/1000\n",
    "            maxc = get_max_counts(spectra, energy, emean - 0.3, emean + 0.3, elements)\n",
    "            elem_data += [elements[i], maxc, elements[i + 1]]\n",
    "            i += 2\n",
    "        data_tuple.append((*tuple(elem_data), info.reflay, info.hydro))\n",
    "    data[os.path.basename(_dir)] = np.array(data_tuple, dtype = dtype)\n",
    "data"
   ]
  },
  {
   "cell_type": "code",
   "execution_count": 82,
   "id": "04f14b14",
   "metadata": {},
   "outputs": [
    {
     "data": {
      "text/plain": [
       "array([('Cr', 12.1357  , 97.74, 'Mn',  1.86117 ,  2.26, 5.20e-05, 2.522e-03, 2.06185567e-02),\n",
       "       ('Cr', 10.5885  , 62.37, 'Mn',  7.49037 , 37.63, 7.20e-05, 2.476e-03, 2.90791599e-02),\n",
       "       ('Cr', 19.9951  , 79.81, 'Mn',  7.26709 , 20.19, 1.13e-04, 3.084e-03, 3.66407263e-02),\n",
       "       ('Cr',  0.669338,  4.27, 'Mn', 13.2945  , 95.73, 5.70e-05, 1.605e-03, 3.55140187e-02),\n",
       "       ('Cr', 11.6423  , 75.79, 'Mn',  4.97186 , 24.21, 6.50e-05, 1.620e-03, 4.01234568e-02),\n",
       "       ('Cr',  9.89709 , 60.62, 'Mn',  7.42124 , 39.38, 6.90e-05, 1.583e-03, 4.35881238e-02),\n",
       "       ('Cr',  0.418744, 23.42, 'Mn',  1.29334 , 76.58, 6.00e-06, 1.214e-03, 4.94233937e-03),\n",
       "       ('Cr',  3.60053 , 39.76, 'Mn',  5.76062 , 60.24, 3.60e-05, 2.513e-03, 1.43255074e-02),\n",
       "       ('Cr',  1.61067 , 25.57, 'Mn',  4.74308 , 74.43, 2.40e-05, 2.148e-03, 1.11731844e-02),\n",
       "       ('Cr',  2.86503 , 46.3 , 'Mn',  3.5918  , 53.7 , 2.40e-05, 1.230e-03, 1.95121951e-02),\n",
       "       ('Cr',  2.53437 , 20.53, 'Mn',  9.75588 , 79.47, 4.90e-05, 2.103e-03, 2.33000476e-02),\n",
       "       ('Cr',  9.8296  , 33.32, 'Mn', 20.4552  , 66.68, 1.33e-04, 1.803e-03, 7.37659456e-02),\n",
       "       ('Cr',  2.99454 , 41.79, 'Mn',  4.42196 , 58.21, 2.80e-05, 6.810e-04, 4.11160059e-02),\n",
       "       ('Cr', 16.8186  , 59.21, 'Mn', 13.3869  , 40.79, 1.30e-04, 1.149e-03, 1.13141862e-01),\n",
       "       ('Cr', 15.1526  , 94.99, 'Mn',  2.67631 ,  5.01, 6.90e-05, 4.580e-04, 1.50655022e-01),\n",
       "       ('Cr',  3.54507 , 39.07, 'Mn',  5.83624 , 60.93, 3.60e-05, 1.824e-03, 1.97368421e-02),\n",
       "       ('Cr',  7.6352  , 80.28, 'Mn',  2.73945 , 19.72, 3.90e-05, 1.393e-03, 2.79971285e-02),\n",
       "       ('Cr',  0.85786 , 52.82, 'Mn',  0.882414, 47.18, 6.00e-06, 2.748e-03, 2.18340611e-03),\n",
       "       ('Cr', 10.5765  , 45.11, 'Mn', 13.8819  , 54.89, 1.03e-04, 6.600e-04, 1.56060606e-01),\n",
       "       ('Cr',  4.93967 , 43.25, 'Mn',  6.90473 , 56.75, 4.60e-05, 1.230e-03, 3.73983740e-02),\n",
       "       ('Cr', 15.8022  , 84.41, 'Mn',  4.70307 , 15.59, 8.10e-05, 2.379e-03, 3.40479193e-02),\n",
       "       ('Cr',  8.48577 , 45.7 , 'Mn', 10.917   , 54.3 , 7.90e-05, 2.729e-03, 2.89483327e-02),\n",
       "       ('Cr',  6.50373 , 20.74, 'Mn', 24.8376  , 79.26, 1.40e-04, 1.301e-03, 1.07609531e-01),\n",
       "       ('Cr',  7.11797 , 24.23, 'Mn', 22.4735  , 75.77, 1.30e-04, 3.364e-03, 3.86444709e-02),\n",
       "       ('Cr',  2.53089 , 49.32, 'Mn',  2.85486 , 50.68, 2.00e-05, 3.061e-03, 6.53381248e-03),\n",
       "       ('Cr',  4.87795 , 39.68, 'Mn',  7.82973 , 60.32, 5.00e-05, 7.420e-04, 6.73854447e-02),\n",
       "       ('Cr',  7.90268 , 46.82, 'Mn',  9.71719 , 53.18, 7.10e-05, 6.340e-04, 1.11987382e-01),\n",
       "       ('Cr',  2.87704 , 32.63, 'Mn',  6.11955 , 67.37, 3.50e-05, 3.410e-04, 1.02639296e-01),\n",
       "       ('Cr',  9.89744 , 49.67, 'Mn', 10.9973  , 50.33, 8.50e-05, 3.425e-03, 2.48175182e-02),\n",
       "       ('Cr',  8.13268 , 52.67, 'Mn',  8.11801 , 47.33, 6.40e-05, 2.095e-03, 3.05489260e-02),\n",
       "       ('Cr',  9.08009 , 50.4 , 'Mn',  9.84588 , 49.6 , 7.60e-05, 2.547e-03, 2.98390263e-02),\n",
       "       ('Cr', 11.2647  , 41.13, 'Mn', 17.2212  , 58.87, 1.23e-04, 2.186e-03, 5.62671546e-02),\n",
       "       ('Cr', 15.6445  , 84.78, 'Mn',  4.58363 , 15.22, 8.00e-05, 1.910e-03, 4.18848168e-02),\n",
       "       ('Cr',  4.99049 , 24.78, 'Mn', 15.3182  , 75.22, 8.50e-05, 4.090e-04, 2.07823961e-01),\n",
       "       ('Cr',  6.33702 , 25.82, 'Mn', 18.5     , 74.18, 1.06e-04, 2.406e-03, 4.40565254e-02),\n",
       "       ('Cr',  8.30305 , 48.27, 'Mn',  9.73661 , 51.73, 7.30e-05, 3.195e-03, 2.28482003e-02),\n",
       "       ('Cr',  9.11532 , 85.65, 'Mn',  2.5813  , 14.35, 4.40e-05, 2.371e-03, 1.85575706e-02),\n",
       "       ('Cr',  0.575134, 18.71, 'Mn',  2.36236 , 81.29, 1.10e-05, 2.404e-03, 4.57570715e-03),\n",
       "       ('Cr',  4.06697 , 23.99, 'Mn', 12.9877  , 76.01, 7.00e-05, 1.159e-03, 6.03968939e-02),\n",
       "       ('Cr',  9.82008 , 45.84, 'Mn', 12.4934  , 54.16, 9.50e-05, 3.400e-05, 2.79411765e+00),\n",
       "       ('Cr', 13.488   , 50.32, 'Mn', 14.7064  , 49.68, 1.20e-04, 1.833e-03, 6.54664484e-02),\n",
       "       ('Cr', 10.9022  , 42.72, 'Mn', 15.6846  , 57.28, 1.13e-04, 3.163e-03, 3.57255770e-02),\n",
       "       ('Cr',  3.63399 , 64.22, 'Mn',  2.42987 , 35.78, 2.20e-05, 3.463e-03, 6.35287323e-03),\n",
       "       ('Cr',  4.57776 , 49.6 , 'Mn',  5.11401 , 50.4 , 3.70e-05, 1.932e-03, 1.91511387e-02),\n",
       "       ('Cr', 13.8736  , 63.96, 'Mn',  9.28858 , 36.04, 9.50e-05, 3.438e-03, 2.76323444e-02),\n",
       "       ('Cr', 20.8124  , 67.94, 'Mn', 12.0671  , 32.06, 1.43e-04, 3.282e-03, 4.35709933e-02),\n",
       "       ('Cr',  1.43393 , 38.4 , 'Mn',  2.4042  , 61.6 , 1.40e-05, 1.943e-03, 7.20535255e-03),\n",
       "       ('Cr', 20.852   , 90.14, 'Mn',  4.65027 ,  9.86, 1.06e-04, 6.400e-05, 1.65625000e+00),\n",
       "       ('Cr', 13.7649  , 79.07, 'Mn',  5.14331 , 20.93, 7.50e-05, 7.990e-04, 9.38673342e-02),\n",
       "       ('Cr',  3.14519 , 59.8 , 'Mn',  2.43281 , 40.2 , 2.10e-05, 1.180e-04, 1.77966102e-01)],\n",
       "      dtype=[('el0', '<U2'), ('counts0', '<f8'), ('wf0', '<f8'), ('el1', '<U2'), ('counts1', '<f8'), ('wf1', '<f8'), ('rlth', '<f8'), ('hcth', '<f8'), ('rl/hc', '<f8')])"
      ]
     },
     "execution_count": 82,
     "metadata": {},
     "output_type": "execute_result"
    }
   ],
   "source": [
    "newdtype = data[\"Cr-Mn\"].dtype.descr + [(\"rl/hc\", float)]\n",
    "newdata = np.empty(data[\"Cr-Mn\"].shape, dtype = newdtype)\n",
    "for n in data[\"Cr-Mn\"].dtype.names:\n",
    "    newdata[n] = data[\"Cr-Mn\"][n]\n",
    "newdata[\"rl/hc\"] = data[\"Cr-Mn\"][\"rlth\"]/data[\"Cr-Mn\"][\"hcth\"]\n",
    "newdata"
   ]
  },
  {
   "cell_type": "code",
   "execution_count": 88,
   "id": "1e8ecd14",
   "metadata": {},
   "outputs": [],
   "source": [
    "plt.figure(1)\n",
    "for w in np.unique(np.round(newdata[\"wf1\"],2)):\n",
    "    condition = np.round(newdata[\"wf1\"],2) == w\n",
    "    d = np.sort(newdata[condition], order = \"rl/hc\")\n",
    "    plt.plot(d[\"rl/hc\"], d[\"counts1\"], label = f'{d[\"el0\"][0]} {d[\"wf0\"][0]}% {d[\"el1\"][0]} {d[\"wf1\"][0]}%')\n",
    "plt.xlabel(\"reference layer thickness / hydrocerussite thickness ratio\")\n",
    "plt.ylabel(\"max counts\")\n",
    "plt.legend()\n",
    "plt.title(r\"K-Ca counts in Ca-K$\\alpha$1 en. range vs rlthickness/hcthickness ratio\")\n",
    "plt.show()"
   ]
  },
  {
   "cell_type": "code",
   "execution_count": 13,
   "id": "d47e8af6",
   "metadata": {},
   "outputs": [],
   "source": [
    "el = 'Mn-Fe'\n",
    "newdata = data[el][data[el][\"rlth\"] == 1.2e-04]\n",
    "plt.figure(2)\n",
    "d = np.sort(newdata, order = \"hcth\")\n",
    "plt.plot(d[\"hcth\"], d[\"counts0\"])\n",
    "plt.show()"
   ]
  },
  {
   "cell_type": "code",
   "execution_count": null,
   "id": "cf0dbc88",
   "metadata": {},
   "outputs": [],
   "source": []
  }
 ],
 "metadata": {
  "kernelspec": {
   "display_name": "Python 3 (ipykernel)",
   "language": "python",
   "name": "python3"
  },
  "language_info": {
   "codemirror_mode": {
    "name": "ipython",
    "version": 3
   },
   "file_extension": ".py",
   "mimetype": "text/x-python",
   "name": "python",
   "nbconvert_exporter": "python",
   "pygments_lexer": "ipython3",
   "version": "3.10.1"
  }
 },
 "nbformat": 4,
 "nbformat_minor": 5
}
